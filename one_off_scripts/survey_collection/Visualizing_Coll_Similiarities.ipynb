{
 "cells": [
  {
   "cell_type": "code",
   "execution_count": null,
   "metadata": {
    "collapsed": false
   },
   "outputs": [],
   "source": [
    "\"\"\"Adapted from https://de.dariah.eu/tatom/working_with_text.html\"\"\""
   ]
  },
  {
   "cell_type": "code",
   "execution_count": null,
   "metadata": {
    "collapsed": false
   },
   "outputs": [],
   "source": [
    "#! usr/bin/env python3\n",
    "\n",
    "import os\n",
    "from survey_coll import survey_output\n",
    "import numpy as np\n",
    "from sklearn.feature_extraction.text import CountVectorizer"
   ]
  },
  {
   "cell_type": "code",
   "execution_count": null,
   "metadata": {
    "collapsed": true
   },
   "outputs": [],
   "source": [
    "coll_fields_dict = dict()\n",
    "\n",
    "for k, v in survey_output.items():\n",
    "    slim_k = k.replace(' ', '')\n",
    "    for value_item in v:\n",
    "        if value_item in coll_fields_dict.keys():\n",
    "            coll_fields_dict[value_item] += '{}{}'.format(' ', slim_k)\n",
    "        else:\n",
    "            coll_fields_dict[value_item] = slim_k"
   ]
  },
  {
   "cell_type": "code",
   "execution_count": null,
   "metadata": {
    "collapsed": false,
    "scrolled": false
   },
   "outputs": [],
   "source": [
    "# print(coll_fields_dict)"
   ]
  },
  {
   "cell_type": "code",
   "execution_count": null,
   "metadata": {
    "collapsed": false
   },
   "outputs": [],
   "source": [
    "from owner_col import owner_col_dict\n",
    "\n",
    "print(len(coll_fields_dict))\n",
    "# remove Tulane collections\n",
    "for owner in owner_col_dict.keys():\n",
    "    if \"tulane\" in owner.lower():\n",
    "        for coll in owner_col_dict[owner]:\n",
    "            if coll in coll_fields_dict:\n",
    "                coll_fields_dict.pop(coll)\n",
    "# remove collections marked for deletion\n",
    "for coll in ('DUBLIN2', 'p15140coll57', 'p16313coll49', 'WIS'):\n",
    "    if coll in coll_fields_dict.keys():\n",
    "        coll_fields_dict.pop(coll)\n",
    "# remove collections with no objects\n",
    "for coll in ('LST', 'p15140coll11', 'p16313coll61', 'p16313coll67', 'p16313coll87', 'p16313coll90', 'p16313coll98', 'p120701coll11', 'p120701coll14'):\n",
    "    if coll in coll_fields_dict.keys():\n",
    "        coll_fields_dict.pop(coll)\n",
    "print(len(coll_fields_dict))"
   ]
  },
  {
   "cell_type": "code",
   "execution_count": null,
   "metadata": {
    "collapsed": false
   },
   "outputs": [],
   "source": [
    "current_user = os.path.expanduser(\"~\")\n",
    "desktop = os.path.join(os.path.expanduser(\"~\"), \"Desktop\")\n",
    "\n",
    "if 'coll_tags_as_files' not in os.listdir(desktop):\n",
    "    os.mkdir('{}/coll_tags_as_files/'.format(desktop))\n",
    "for k,v in coll_fields_dict.items():\n",
    "    name = '{}/coll_tags_as_files/{}.txt'.format(desktop, k)\n",
    "    with open(name, 'w') as f:\n",
    "        f.write(v)"
   ]
  },
  {
   "cell_type": "code",
   "execution_count": null,
   "metadata": {
    "collapsed": false
   },
   "outputs": [],
   "source": [
    "filenames = [name for name in os.listdir('{}/coll_tags_as_files/'.format(desktop))]\n",
    "# print(filenames)"
   ]
  },
  {
   "cell_type": "code",
   "execution_count": null,
   "metadata": {
    "collapsed": false
   },
   "outputs": [],
   "source": [
    "vectorizer = CountVectorizer(input='filename')\n",
    "\n",
    "os.chdir('{}/coll_tags_as_files/'.format(desktop))\n",
    "dtm = vectorizer.fit_transform(filenames)  # a sparse matrix\n",
    "\n",
    "vocab = vectorizer.get_feature_names()  # a list"
   ]
  },
  {
   "cell_type": "code",
   "execution_count": null,
   "metadata": {
    "collapsed": false
   },
   "outputs": [],
   "source": [
    "# print(dir(dtm), dtm)\n",
    "print(type(dtm))"
   ]
  },
  {
   "cell_type": "code",
   "execution_count": null,
   "metadata": {
    "collapsed": true
   },
   "outputs": [],
   "source": [
    "dtm = dtm.toarray()  # convert to a regular array\n",
    "\n",
    "vocab = np.array(vocab)"
   ]
  },
  {
   "cell_type": "code",
   "execution_count": null,
   "metadata": {
    "collapsed": true
   },
   "outputs": [],
   "source": [
    "# print(list(vocab))\n",
    "# for n, i in enumerate(vocab):\n",
    "    # print(dtm[0, n])"
   ]
  },
  {
   "cell_type": "code",
   "execution_count": null,
   "metadata": {
    "collapsed": true
   },
   "outputs": [],
   "source": [
    "from sklearn.metrics.pairwise import cosine_similarity\n",
    "\n",
    "dist = 1 - cosine_similarity(dtm)"
   ]
  },
  {
   "cell_type": "code",
   "execution_count": null,
   "metadata": {
    "collapsed": true
   },
   "outputs": [],
   "source": [
    "# print(np.round(dist, 2))\n",
    "# print(dist[1, 3])"
   ]
  },
  {
   "cell_type": "code",
   "execution_count": null,
   "metadata": {
    "collapsed": false
   },
   "outputs": [],
   "source": [
    "# %matplotlib inline\n",
    "%matplotlib notebook\n",
    "import os\n",
    "import matplotlib.pyplot as plt\n",
    "from sklearn.manifold import MDS\n",
    "\n",
    "# two components as we're plotting points in a two-dimensional plane\n",
    "# \"precomputed\" because we provide a distance matrix\n",
    "# we will also specify `random_state` so the plot is reproducible.\n",
    "\n",
    "mds = MDS(n_components=2, dissimilarity=\"precomputed\", random_state=1)\n",
    "pos = mds.fit_transform(dist)  # shape (n_components, n_samples)\n",
    "xs, ys = pos[:, 0], pos[:, 1]\n",
    "\n",
    "# short versions of filenames:\n",
    "# convert 'data/austen-brontë/Austen_Emma.txt' to 'Austen_Emma'\n",
    "\n",
    "names = [os.path.basename(fn).replace('.txt', '') for fn in filenames]\n",
    "\n",
    "# color-blind-friendly palette\n",
    "\n",
    "for x, y, name in zip(xs, ys, names):\n",
    "    color = 'skyblue'\n",
    "    plt.scatter(x, y, c=color)\n",
    "    plt.text(x, y, name)\n",
    "plt.show()"
   ]
  },
  {
   "cell_type": "code",
   "execution_count": null,
   "metadata": {
    "collapsed": false,
    "scrolled": false
   },
   "outputs": [],
   "source": [
    "from mpl_toolkits.mplot3d import Axes3D\n",
    "\n",
    "mds = MDS(n_components=3, dissimilarity=\"precomputed\", random_state=1)\n",
    "pos = mds.fit_transform(dist)\n",
    "fig = plt.figure(figsize=(10, 10), dpi=100, facecolor='w', edgecolor='k')\n",
    "ax = fig.add_subplot(111, projection='3d')\n",
    "ax.scatter(pos[:, 0], pos[:, 1], pos[:, 2])\n",
    "# for x, y, z, s in zip(pos[:, 0], pos[:, 1], pos[:, 2], names):\n",
    "#     ax.text(x, y, z, s)\n",
    "plt.tight_layout()\n",
    "plt.show()"
   ]
  },
  {
   "cell_type": "code",
   "execution_count": null,
   "metadata": {
    "collapsed": false,
    "scrolled": true
   },
   "outputs": [],
   "source": [
    "from scipy.cluster.hierarchy import ward, dendrogram\n",
    "\n",
    "linkage_matrix = ward(dist)\n",
    "\n",
    "# match dendrogram to that returned by R's hclust()\n",
    "dendrogram(linkage_matrix, orientation=\"top\", labels=names, leaf_font_size='8')\n",
    "\n",
    "\n",
    "#plt.tight_layout()  # fixes margins\n",
    "\n",
    "plt.show()"
   ]
  },
  {
   "cell_type": "code",
   "execution_count": null,
   "metadata": {
    "collapsed": true
   },
   "outputs": [],
   "source": []
  }
 ],
 "metadata": {
  "kernelspec": {
   "display_name": "Python 3",
   "language": "python",
   "name": "python3"
  },
  "language_info": {
   "codemirror_mode": {
    "name": "ipython",
    "version": 3
   },
   "file_extension": ".py",
   "mimetype": "text/x-python",
   "name": "python",
   "nbconvert_exporter": "python",
   "pygments_lexer": "ipython3",
   "version": "3.5.2"
  }
 },
 "nbformat": 4,
 "nbformat_minor": 0
}
